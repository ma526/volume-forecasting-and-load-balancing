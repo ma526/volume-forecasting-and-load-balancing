{
 "cells": [
  {
   "cell_type": "code",
   "execution_count": 36,
   "id": "0c8d52de",
   "metadata": {},
   "outputs": [],
   "source": [
    "# Forecasting Package Volume Using XGBoost\n",
    "\n",
    "# 📦 Step 1: Load Data\n",
    "import pandas as pd\n",
    "import numpy as np\n",
    "from xgboost import XGBRegressor\n",
    "from sklearn.model_selection import train_test_split\n",
    "from sklearn.metrics import mean_squared_error\n",
    "import matplotlib.pyplot as plt\n",
    "\n",
    "# Load data\n",
    "orders = pd.read_csv(\"../data/generated_orders.csv\")\n",
    "calendar = pd.read_csv(\"../data/calendar_features.csv\")\n",
    "\n",
    "# Merge calendar features\n",
    "orders['date'] = pd.to_datetime(orders['date'])\n",
    "calendar['date'] = pd.to_datetime(calendar['date'])\n",
    "df = pd.merge(orders, calendar, on='date')\n"
   ]
  },
  {
   "cell_type": "code",
   "execution_count": 37,
   "id": "b2f4315b",
   "metadata": {},
   "outputs": [],
   "source": [
    "# 🛠️ Step 2: Feature Engineering\n",
    "\n",
    "# Create lag features\n",
    "df.sort_values(by=['sku', 'zip_code', 'date'], inplace=True)\n",
    "\n",
    "# Lag features\n",
    "for lag in [1, 3, 7]:\n",
    "    df[f'lag_{lag}'] = df.groupby(['sku', 'zip_code'])['volume'].shift(lag)\n",
    "\n",
    "# Rolling average\n",
    "df['rolling_mean_7'] = df.groupby(['sku', 'zip_code'])['volume'].shift(1).rolling(7).mean()\n",
    "\n",
    "# Drop rows with NaN values caused by lag\n",
    "df.dropna(inplace=True)\n"
   ]
  },
  {
   "cell_type": "code",
   "execution_count": 38,
   "id": "8268a55c",
   "metadata": {},
   "outputs": [
    {
     "name": "stdout",
     "output_type": "stream",
     "text": [
      "Test RMSE: 14.67\n"
     ]
    },
    {
     "name": "stderr",
     "output_type": "stream",
     "text": [
      "C:\\Users\\puroh\\anaconda3\\envs\\notebook\\Lib\\site-packages\\sklearn\\metrics\\_regression.py:492: FutureWarning: 'squared' is deprecated in version 1.4 and will be removed in 1.6. To calculate the root mean squared error, use the function'root_mean_squared_error'.\n",
      "  warnings.warn(\n"
     ]
    }
   ],
   "source": [
    "# 🤖 Step 3: Train XGBoost Model\n",
    "\n",
    "# Encode categorical variables\n",
    "df['sku_code'] = df['sku'].astype('category').cat.codes\n",
    "df['zip_code_encoded'] = df['zip_code'].astype('category').cat.codes\n",
    "\n",
    "# Select features and target\n",
    "features = ['sku_code', 'zip_code_encoded', 'day_of_week', 'is_weekend', 'is_holiday',\n",
    "            'lag_1', 'lag_3', 'lag_7', 'rolling_mean_7']\n",
    "\n",
    "X = df[features]\n",
    "y = df['volume']\n",
    "\n",
    "# Split into training and test sets\n",
    "X_train, X_test, y_train, y_test = train_test_split(X, y, test_size=0.2, shuffle=False)\n",
    "\n",
    "# Train the XGBoost model\n",
    "model = XGBRegressor(n_estimators=1000, max_depth=10, learning_rate=0.1, objective='reg:squarederror')\n",
    "model.fit(X_train, y_train)\n",
    "\n",
    "# Evaluate model\n",
    "y_pred = model.predict(X_test)\n",
    "rmse = mean_squared_error(y_test, y_pred, squared=False)\n",
    "print(f\"Test RMSE: {rmse:.2f}\")\n"
   ]
  },
  {
   "cell_type": "code",
   "execution_count": 39,
   "id": "2c04b68e",
   "metadata": {},
   "outputs": [
    {
     "name": "stdout",
     "output_type": "stream",
     "text": [
      "✅ Forecast saved to ../outputs/forecast_output_for_powerbi.csv\n"
     ]
    }
   ],
   "source": [
    "# 📈 Step 4: Forecast Next 14 Days\n",
    "\n",
    "# Take last record per SKU-ZIP for future prediction seeding\n",
    "latest = df.groupby(['sku', 'zip_code']).tail(1).copy()\n",
    "\n",
    "future_forecast = []\n",
    "\n",
    "for day in range(1, 15):  # Forecast next 14 days\n",
    "    latest['day_of_week'] = (latest['date'].dt.dayofweek + 1) % 7\n",
    "    latest['is_weekend'] = latest['day_of_week'].apply(lambda x: 1 if x in [5, 6] else 0)\n",
    "    latest['is_holiday'] = 0  # Assume no holidays in future\n",
    "\n",
    "    # Prepare input\n",
    "    X_future = latest[features]\n",
    "    preds = model.predict(X_future)\n",
    "\n",
    "    latest['volume'] = preds\n",
    "    latest['date'] = latest['date'] + pd.Timedelta(days=1)\n",
    "\n",
    "    # Update lag and rolling values\n",
    "    latest['lag_1'] = preds\n",
    "    latest['lag_3'] = latest['lag_1']\n",
    "    latest['lag_7'] = latest['lag_3']\n",
    "    latest['rolling_mean_7'] = latest['lag_1']\n",
    "\n",
    "    # Store forecast\n",
    "    future_forecast.append(latest[['date', 'sku', 'zip_code', 'volume']].copy())\n",
    "\n",
    "# Combine and format\n",
    "forecast_df = pd.concat(future_forecast)\n",
    "forecast_df['volume'] = forecast_df['volume'].astype(int)\n",
    "forecast_df.reset_index(drop=True, inplace=True)\n",
    "\n",
    "# Save forecast for Power BI\n",
    "forecast_df.to_csv(\"../outputs/forecast_output_for_powerbi.csv\", index=False)\n",
    "print(\"✅ Forecast saved to ../outputs/forecast_output_for_powerbi.csv\")\n"
   ]
  },
  {
   "cell_type": "code",
   "execution_count": 40,
   "id": "3410c91a",
   "metadata": {},
   "outputs": [
    {
     "data": {
      "text/plain": [
       "array([25, 37, 29, 34, 31, 28, 43, 38, 30, 46, 41, 36, 45, 39, 33, 44, 26,\n",
       "       23, 32, 51, 40, 27, 48, 42, 16, 20, 35, 47, 22, 49, 53, 21, 19, 50,\n",
       "       24, 14, 55, 52, 56])"
      ]
     },
     "execution_count": 40,
     "metadata": {},
     "output_type": "execute_result"
    }
   ],
   "source": [
    "forecast_df.volume.unique()"
   ]
  },
  {
   "cell_type": "code",
   "execution_count": null,
   "id": "40261a0d",
   "metadata": {},
   "outputs": [],
   "source": []
  },
  {
   "cell_type": "code",
   "execution_count": null,
   "id": "dc29b8cb",
   "metadata": {},
   "outputs": [],
   "source": []
  },
  {
   "cell_type": "code",
   "execution_count": null,
   "id": "0693844b",
   "metadata": {},
   "outputs": [],
   "source": []
  },
  {
   "cell_type": "code",
   "execution_count": null,
   "id": "244235b2",
   "metadata": {},
   "outputs": [],
   "source": []
  },
  {
   "cell_type": "code",
   "execution_count": null,
   "id": "61ea5cfd",
   "metadata": {},
   "outputs": [],
   "source": []
  },
  {
   "cell_type": "code",
   "execution_count": null,
   "id": "44cd725a",
   "metadata": {},
   "outputs": [],
   "source": []
  },
  {
   "cell_type": "code",
   "execution_count": null,
   "id": "920cccfe",
   "metadata": {},
   "outputs": [],
   "source": []
  }
 ],
 "metadata": {
  "kernelspec": {
   "display_name": "Python 3 (ipykernel)",
   "language": "python",
   "name": "python3"
  },
  "language_info": {
   "codemirror_mode": {
    "name": "ipython",
    "version": 3
   },
   "file_extension": ".py",
   "mimetype": "text/x-python",
   "name": "python",
   "nbconvert_exporter": "python",
   "pygments_lexer": "ipython3",
   "version": "3.11.9"
  }
 },
 "nbformat": 4,
 "nbformat_minor": 5
}
